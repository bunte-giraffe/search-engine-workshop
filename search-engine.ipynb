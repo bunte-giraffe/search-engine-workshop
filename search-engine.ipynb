{
 "cells": [
  {
   "cell_type": "code",
   "execution_count": null,
   "id": "5470328d-63f4-42fd-bee7-9faa75e4e22d",
   "metadata": {},
   "outputs": [],
   "source": [
    "import pandas as pd"
   ]
  },
  {
   "cell_type": "code",
   "execution_count": null,
   "id": "ef0eccfe-d96d-4eb0-8fcd-c1ca682d3d28",
   "metadata": {},
   "outputs": [],
   "source": [
    "import requests \n",
    "\n",
    "docs_url = 'https://github.com/alexeygrigorev/llm-rag-workshop/raw/main/notebooks/documents.json'\n",
    "docs_response = requests.get(docs_url)\n",
    "documents_raw = docs_response.json()\n",
    "\n",
    "documents = []\n",
    "\n",
    "for course in documents_raw:\n",
    "    course_name = course['course']\n",
    "\n",
    "    for doc in course['documents']:\n",
    "        doc['course'] = course_name\n",
    "        documents.append(doc)"
   ]
  },
  {
   "cell_type": "code",
   "execution_count": null,
   "id": "8fb34727-9b2c-4611-9f44-aa9c357d1d8d",
   "metadata": {},
   "outputs": [],
   "source": [
    "documents[0]"
   ]
  },
  {
   "cell_type": "code",
   "execution_count": null,
   "id": "2831861a-93bc-47eb-9308-6ecad9cd626b",
   "metadata": {},
   "outputs": [],
   "source": [
    "df = pd.DataFrame(documents, columns=['course', 'section', 'question', 'text'])"
   ]
  },
  {
   "cell_type": "code",
   "execution_count": null,
   "id": "3dd4a924",
   "metadata": {},
   "outputs": [],
   "source": [
    "df.head()"
   ]
  },
  {
   "cell_type": "code",
   "execution_count": null,
   "id": "5487bb9f",
   "metadata": {},
   "outputs": [],
   "source": [
    "df.tail()"
   ]
  },
  {
   "cell_type": "code",
   "execution_count": null,
   "id": "dca99918",
   "metadata": {},
   "outputs": [],
   "source": [
    "df[df.course == 'data-engineering-zoomcamp']"
   ]
  },
  {
   "cell_type": "code",
   "execution_count": null,
   "id": "a61ac673",
   "metadata": {},
   "outputs": [],
   "source": [
    "df"
   ]
  },
  {
   "cell_type": "code",
   "execution_count": null,
   "id": "b2e5d5fb",
   "metadata": {},
   "outputs": [],
   "source": [
    "from sklearn.feature_extraction.text import CountVectorizer"
   ]
  },
  {
   "cell_type": "code",
   "execution_count": null,
   "id": "f77f92f8",
   "metadata": {},
   "outputs": [],
   "source": [
    "cv = CountVectorizer(min_df=5)"
   ]
  },
  {
   "cell_type": "code",
   "execution_count": null,
   "id": "6d1a1063",
   "metadata": {},
   "outputs": [],
   "source": [
    "cv.fit(df.text)"
   ]
  },
  {
   "cell_type": "code",
   "execution_count": null,
   "id": "ad3ab375",
   "metadata": {},
   "outputs": [],
   "source": [
    "cv.get_feature_names_out()"
   ]
  },
  {
   "cell_type": "code",
   "execution_count": null,
   "id": "d8f130ce",
   "metadata": {},
   "outputs": [],
   "source": [
    "doc_examples = [\n",
    "    \"Course starts on 15th Jan 2024\",\n",
    "    \"Prerequisites listed on GitHub\",\n",
    "    \"Submit homeworks after start date\",\n",
    "    \"Registration not required for participation\",\n",
    "    \"Setup Google Cloud and Python before course\"\n",
    "]"
   ]
  },
  {
   "cell_type": "code",
   "execution_count": null,
   "id": "db5e229e",
   "metadata": {},
   "outputs": [],
   "source": [
    "cv = CountVectorizer(stop_words=\"english\")"
   ]
  },
  {
   "cell_type": "code",
   "execution_count": null,
   "id": "1487f1d5",
   "metadata": {},
   "outputs": [],
   "source": [
    "cv.fit(doc_examples)"
   ]
  },
  {
   "cell_type": "code",
   "execution_count": null,
   "id": "227841e6",
   "metadata": {},
   "outputs": [],
   "source": [
    "cv.get_feature_names_out()"
   ]
  },
  {
   "cell_type": "code",
   "execution_count": null,
   "id": "dea539f3",
   "metadata": {},
   "outputs": [],
   "source": [
    "X = cv.transform(doc_examples)"
   ]
  },
  {
   "cell_type": "code",
   "execution_count": null,
   "id": "32f0d7d0",
   "metadata": {},
   "outputs": [],
   "source": [
    "pd.DataFrame(X.todense(), columns = cv.get_feature_names_out()).T"
   ]
  },
  {
   "cell_type": "code",
   "execution_count": null,
   "id": "ce0f44bf",
   "metadata": {},
   "outputs": [],
   "source": [
    "from sklearn.feature_extraction.text import TfidfVectorizer\n",
    "\n",
    "cv = TfidfVectorizer(stop_words='english', min_df=5)\n",
    "X = cv.fit_transform(df.text)\n",
    "\n",
    "names = cv.get_feature_names_out()\n",
    "\n",
    "df_docs = pd.DataFrame(X.toarray(), columns=names).T\n",
    "df_docs.round(2)"
   ]
  },
  {
   "cell_type": "code",
   "execution_count": null,
   "id": "3988248a",
   "metadata": {},
   "outputs": [],
   "source": [
    "X"
   ]
  },
  {
   "cell_type": "code",
   "execution_count": null,
   "id": "7464a7d9",
   "metadata": {},
   "outputs": [],
   "source": [
    "query = \"I just discovered the course. Is it too late to join?\"\n",
    "\n",
    "q = cv.transform([query])\n",
    "pd.DataFrame(q.toarray(), columns=cv.get_feature_names_out()).T"
   ]
  },
  {
   "cell_type": "code",
   "execution_count": null,
   "id": "70a71c8e",
   "metadata": {},
   "outputs": [],
   "source": [
    "query_dict = dict(zip(names, q.toarray()[0]))\n",
    "#[print(k, v) for k, v in query_dict.items() if v > 0]\n",
    "#list(filter(lambda x: x > 0, [v for k, v in query_dict.items()]))"
   ]
  },
  {
   "cell_type": "code",
   "execution_count": null,
   "id": "a1febf23",
   "metadata": {},
   "outputs": [],
   "source": [
    "doc_dict = dict(zip(names, X.toarray()[2]))\n",
    "#[print(k, v) for k, v in doc_dict.items() if v > 0]"
   ]
  },
  {
   "cell_type": "code",
   "execution_count": null,
   "id": "c99c6e05",
   "metadata": {},
   "outputs": [],
   "source": [
    "X.dot(q.T).todense()"
   ]
  },
  {
   "cell_type": "code",
   "execution_count": null,
   "id": "7f8c097d",
   "metadata": {},
   "outputs": [],
   "source": [
    "from sklearn.metrics.pairwise import cosine_similarity"
   ]
  },
  {
   "cell_type": "code",
   "execution_count": null,
   "id": "812951bd",
   "metadata": {},
   "outputs": [],
   "source": [
    "score = cosine_similarity(X, q).flatten()"
   ]
  },
  {
   "cell_type": "code",
   "execution_count": null,
   "id": "b9f8db90",
   "metadata": {},
   "outputs": [],
   "source": [
    "import numpy as np"
   ]
  },
  {
   "cell_type": "code",
   "execution_count": null,
   "id": "a0d22b1b",
   "metadata": {},
   "outputs": [],
   "source": [
    "np.argsort(score)[-5:]"
   ]
  },
  {
   "cell_type": "code",
   "execution_count": null,
   "id": "6172e945",
   "metadata": {},
   "outputs": [],
   "source": [
    "df.iloc[449].text"
   ]
  },
  {
   "cell_type": "code",
   "execution_count": null,
   "id": "e09c3124",
   "metadata": {},
   "outputs": [],
   "source": [
    "df"
   ]
  },
  {
   "cell_type": "code",
   "execution_count": null,
   "id": "ee4e14a1",
   "metadata": {},
   "outputs": [],
   "source": [
    "fields = ['section', 'question', 'text']"
   ]
  },
  {
   "cell_type": "code",
   "execution_count": null,
   "id": "4a11a575",
   "metadata": {},
   "outputs": [],
   "source": [
    "matrices = {}\n",
    "vectorizers = {}\n",
    "\n",
    "for f in fields:\n",
    "    cv = TfidfVectorizer()\n",
    "    X = cv.fit_transform(df[f])\n",
    "    matrices[f] = X\n",
    "    vectorizers[f] = cv"
   ]
  },
  {
   "cell_type": "code",
   "execution_count": null,
   "id": "d5f0b114",
   "metadata": {},
   "outputs": [],
   "source": [
    "matrices"
   ]
  },
  {
   "cell_type": "code",
   "execution_count": null,
   "id": "339e87d5",
   "metadata": {},
   "outputs": [],
   "source": [
    "vectorizers"
   ]
  },
  {
   "cell_type": "code",
   "execution_count": null,
   "id": "5040ccb3",
   "metadata": {},
   "outputs": [],
   "source": [
    "n = len(df)"
   ]
  },
  {
   "cell_type": "code",
   "execution_count": null,
   "id": "cdfca79c",
   "metadata": {},
   "outputs": [],
   "source": [
    "n"
   ]
  },
  {
   "cell_type": "code",
   "execution_count": null,
   "id": "c671cc5e",
   "metadata": {},
   "outputs": [],
   "source": [
    "score = np.zeros(n)\n",
    "query = 'I just signed up. Is it too late to join the course?'\n",
    "\n",
    "boosts = {\n",
    "    'question': 3.0\n",
    "}\n",
    "\n",
    "for f in fields:\n",
    "    q = vectorizers[f].transform([query])\n",
    "    X = matrices[f]\n",
    "\n",
    "    f_score = cosine_similarity(X, q).flatten()\n",
    "\n",
    "    boost = boosts.get(f, 1.0)\n",
    "\n",
    "    score = score + boost * f_score\n",
    "\n"
   ]
  },
  {
   "cell_type": "code",
   "execution_count": null,
   "id": "3f20541c",
   "metadata": {},
   "outputs": [],
   "source": [
    "score"
   ]
  },
  {
   "cell_type": "code",
   "execution_count": null,
   "id": "add4cbd6",
   "metadata": {},
   "outputs": [],
   "source": [
    "filters = {\n",
    "    'course': 'data-engineering-zoomcamp'\n",
    "}\n",
    "\n",
    "for field, value in filters.items():\n",
    "    mask = (df[field] == value).astype(int)\n",
    "    score = score * mask\n",
    "mask\n",
    "score"
   ]
  },
  {
   "cell_type": "code",
   "execution_count": null,
   "id": "3e7f3bcc",
   "metadata": {},
   "outputs": [],
   "source": [
    "idx = np.argsort(-score)[:5]"
   ]
  },
  {
   "cell_type": "code",
   "execution_count": null,
   "id": "fb3c2348",
   "metadata": {},
   "outputs": [],
   "source": [
    "idx"
   ]
  },
  {
   "cell_type": "code",
   "execution_count": null,
   "id": "5a63b35b",
   "metadata": {},
   "outputs": [],
   "source": [
    "df.iloc[idx]"
   ]
  },
  {
   "cell_type": "code",
   "execution_count": null,
   "id": "c2957ded",
   "metadata": {},
   "outputs": [],
   "source": [
    "class TextSearch:\n",
    "\n",
    "    def __init__(self, text_fields):\n",
    "        self.text_fields = text_fields\n",
    "        self.matrices = {}\n",
    "        self.vectorizers = {}\n",
    "\n",
    "    def fit(self, records, vectorizer_params={}):\n",
    "        self.df = pd.DataFrame(records)\n",
    "\n",
    "        for f in self.text_fields:\n",
    "            cv = TfidfVectorizer(**vectorizer_params)\n",
    "            X = cv.fit_transform(self.df[f])\n",
    "            self.matrices[f] = X\n",
    "            self.vectorizers[f] = cv\n",
    "\n",
    "    def search(self, query, n_results=10, boost={}, filters={}):\n",
    "        score = np.zeros(len(self.df))\n",
    "\n",
    "        for f in self.text_fields:\n",
    "            b = boost.get(f, 1.0)\n",
    "            q = self.vectorizers[f].transform([query])\n",
    "            s = cosine_similarity(self.matrices[f], q).flatten()\n",
    "            score = score + b * s\n",
    "\n",
    "        for field, value in filters.items():\n",
    "            mask = (self.df[field] == value).values\n",
    "            score = score * mask\n",
    "\n",
    "        idx = np.argsort(-score)[:n_results]\n",
    "        results = self.df.iloc[idx]\n",
    "        return results.to_dict(orient='records')"
   ]
  },
  {
   "cell_type": "code",
   "execution_count": null,
   "id": "cb5c245e",
   "metadata": {},
   "outputs": [],
   "source": [
    "index = TextSearch(\n",
    "    text_fields=['section', 'question', 'text']\n",
    ")\n",
    "index.fit(documents)\n",
    "\n",
    "index.search(\n",
    "    query='I just signed up. Is it too late to join the course?',\n",
    "    n_results=5,\n",
    "    boost={'question': 3.0},\n",
    "    filters={'course': 'data-engineering-zoomcamp'}\n",
    ")"
   ]
  },
  {
   "cell_type": "code",
   "execution_count": null,
   "id": "df4408e6",
   "metadata": {},
   "outputs": [],
   "source": [
    "X"
   ]
  },
  {
   "cell_type": "code",
   "execution_count": null,
   "id": "ea5991f7",
   "metadata": {},
   "outputs": [],
   "source": [
    "from sklearn.decomposition import TruncatedSVD\n",
    "\n",
    "X = matrices['text']\n",
    "cv = vectorizers['text']\n",
    "\n",
    "svd = TruncatedSVD(n_components=16)\n",
    "X_emb = svd.fit_transform(X)\n",
    "\n",
    "X_emb[0]"
   ]
  },
  {
   "cell_type": "code",
   "execution_count": null,
   "id": "37a00862",
   "metadata": {},
   "outputs": [],
   "source": [
    "cv"
   ]
  },
  {
   "cell_type": "code",
   "execution_count": null,
   "id": "14216b39",
   "metadata": {},
   "outputs": [],
   "source": [
    "X.shape\n",
    "X_emb.shape"
   ]
  },
  {
   "cell_type": "code",
   "execution_count": null,
   "id": "4595caa1",
   "metadata": {},
   "outputs": [],
   "source": [
    "query = 'I just signed up. Is it too late to join the course?'\n",
    "\n",
    "Q = cv.transform([query])\n",
    "Q_emb = svd.transform(Q)\n",
    "Q_emb[0]"
   ]
  },
  {
   "cell_type": "code",
   "execution_count": null,
   "id": "23bac962",
   "metadata": {},
   "outputs": [],
   "source": [
    "np.dot(X_emb[0], Q_emb[0])"
   ]
  },
  {
   "cell_type": "code",
   "execution_count": null,
   "id": "5ac81dd7",
   "metadata": {},
   "outputs": [],
   "source": [
    "score = cosine_similarity(X_emb, Q_emb).flatten()\n",
    "idx = np.argsort(-score)[:10]\n",
    "list(df.loc[idx].text)"
   ]
  },
  {
   "cell_type": "code",
   "execution_count": null,
   "id": "178adc52",
   "metadata": {},
   "outputs": [],
   "source": [
    "df.loc[idx]"
   ]
  },
  {
   "cell_type": "code",
   "execution_count": null,
   "id": "d2aef2d4",
   "metadata": {},
   "outputs": [],
   "source": [
    "from sklearn.decomposition import NMF\n",
    "nmf = NMF(n_components=16)\n",
    "X_emb = nmf.fit_transform(X)\n",
    "X_emb[0]"
   ]
  },
  {
   "cell_type": "code",
   "execution_count": null,
   "id": "e6fc3765",
   "metadata": {},
   "outputs": [],
   "source": [
    "Q = cv.transform([query])\n",
    "Q_emb = nmf.transform(Q)\n",
    "Q_emb[0]"
   ]
  },
  {
   "cell_type": "code",
   "execution_count": null,
   "id": "32ac1f75",
   "metadata": {},
   "outputs": [],
   "source": [
    "score = cosine_similarity(X_emb, Q_emb).flatten()\n",
    "idx = np.argsort(-score)[:10]\n",
    "df.loc[idx]"
   ]
  },
  {
   "cell_type": "code",
   "execution_count": null,
   "id": "95ce8c59",
   "metadata": {},
   "outputs": [],
   "source": [
    "%pip install -U transformers"
   ]
  },
  {
   "cell_type": "code",
   "execution_count": null,
   "id": "eb139b2f",
   "metadata": {},
   "outputs": [],
   "source": [
    "%pip install torch tqdm"
   ]
  },
  {
   "cell_type": "code",
   "execution_count": null,
   "id": "42b3b0d0",
   "metadata": {},
   "outputs": [],
   "source": [
    "%pip install -U protobuf"
   ]
  },
  {
   "cell_type": "code",
   "execution_count": null,
   "id": "fdd18b1c",
   "metadata": {},
   "outputs": [],
   "source": [
    "from huggingface_hub import snapshot_download\n",
    "\n",
    "snapshot_download(repo_id=\"google-bert/bert-base-uncased\", repo_type=\"model\")"
   ]
  },
  {
   "cell_type": "code",
   "execution_count": null,
   "id": "3dd52615",
   "metadata": {},
   "outputs": [],
   "source": [
    "# Load model directly\n",
    "from transformers import AutoTokenizer, AutoModelForMaskedLM\n",
    "\n",
    "tokenizer = AutoTokenizer.from_pretrained(\"google-bert/bert-base-uncased\")\n",
    "model = AutoModelForMaskedLM.from_pretrained(\"google-bert/bert-base-uncased\")"
   ]
  }
 ],
 "metadata": {
  "kernelspec": {
   "display_name": "Python 3",
   "language": "python",
   "name": "python3"
  },
  "language_info": {
   "codemirror_mode": {
    "name": "ipython",
    "version": 3
   },
   "file_extension": ".py",
   "mimetype": "text/x-python",
   "name": "python",
   "nbconvert_exporter": "python",
   "pygments_lexer": "ipython3",
   "version": "3.12.1"
  }
 },
 "nbformat": 4,
 "nbformat_minor": 5
}
